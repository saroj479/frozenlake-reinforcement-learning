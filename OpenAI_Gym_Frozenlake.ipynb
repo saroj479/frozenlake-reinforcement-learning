{
  "nbformat": 4,
  "nbformat_minor": 0,
  "metadata": {
    "colab": {
      "name": "OpenAI-Gym-Frozenlake.ipynb",
      "provenance": []
    },
    "kernelspec": {
      "name": "python3",
      "display_name": "Python 3"
    },
    "language_info": {
      "name": "python"
    }
  },
  "cells": [
    {
      "cell_type": "code",
      "execution_count": 1,
      "metadata": {
        "id": "5KuwHLJYUbkk"
      },
      "outputs": [],
      "source": [
        "import numpy as np\n",
        "import gym\n",
        "import random\n",
        "import time\n",
        "from IPython.display import clear_output"
      ]
    },
    {
      "cell_type": "code",
      "source": [
        "env = gym.make(\"FrozenLake-v0\")"
      ],
      "metadata": {
        "id": "1naeUVcvUv1n"
      },
      "execution_count": 2,
      "outputs": []
    },
    {
      "cell_type": "code",
      "source": [
        "action_space_size = env.action_space.n\n",
        "state_space_size = env.observation_space.n\n",
        "\n",
        "q_table = np.zeros((state_space_size, action_space_size))"
      ],
      "metadata": {
        "id": "HYRTZxbtU5mE"
      },
      "execution_count": 3,
      "outputs": []
    },
    {
      "cell_type": "code",
      "source": [
        "print(q_table)"
      ],
      "metadata": {
        "colab": {
          "base_uri": "https://localhost:8080/"
        },
        "id": "zz_tU2wDU5oV",
        "outputId": "dde3318f-4198-406e-c0b6-4f3f27b5af87"
      },
      "execution_count": 4,
      "outputs": [
        {
          "output_type": "stream",
          "name": "stdout",
          "text": [
            "[[0. 0. 0. 0.]\n",
            " [0. 0. 0. 0.]\n",
            " [0. 0. 0. 0.]\n",
            " [0. 0. 0. 0.]\n",
            " [0. 0. 0. 0.]\n",
            " [0. 0. 0. 0.]\n",
            " [0. 0. 0. 0.]\n",
            " [0. 0. 0. 0.]\n",
            " [0. 0. 0. 0.]\n",
            " [0. 0. 0. 0.]\n",
            " [0. 0. 0. 0.]\n",
            " [0. 0. 0. 0.]\n",
            " [0. 0. 0. 0.]\n",
            " [0. 0. 0. 0.]\n",
            " [0. 0. 0. 0.]\n",
            " [0. 0. 0. 0.]]\n"
          ]
        }
      ]
    },
    {
      "cell_type": "code",
      "source": [
        "num_episodes = 10000\n",
        "max_steps_per_episode = 100\n",
        "\n",
        "learning_rate = 0.1\n",
        "discount_rate = 0.99\n",
        "\n",
        "exploration_rate = 1\n",
        "max_exploration_rate = 1\n",
        "min_exploration_rate = 0.01\n",
        "exploration_decay_rate = 0.01"
      ],
      "metadata": {
        "id": "GyW_xpV5U5rK"
      },
      "execution_count": 5,
      "outputs": []
    },
    {
      "cell_type": "code",
      "source": [
        "rewards_all_episodes=[]\n",
        "for episode in range(num_episodes):\n",
        "    state = env.reset()\n",
        "    done = False\n",
        "    rewards_current_episode = 0\n",
        "\n",
        "    for step in range(max_steps_per_episode): \n",
        "       exploration_rate_threshold = random.uniform(0, 1)\n",
        "       if exploration_rate_threshold > exploration_rate:\n",
        "           action = np.argmax(q_table[state,:]) \n",
        "       else:\n",
        "            action = env.action_space.sample()\n",
        "       new_state, reward, done, info = env.step(action)\n",
        "\n",
        "       q_table[state, action] = q_table[state, action] * (1 - learning_rate) + \\\n",
        "           learning_rate * (reward + discount_rate * np.max(q_table[new_state, :]))\n",
        "       state = new_state\n",
        "       rewards_current_episode += reward \n",
        "\n",
        "       if done == True: \n",
        "           break\n",
        "\n",
        "   # Exploration rate decay\n",
        "    exploration_rate = min_exploration_rate + \\\n",
        "        (max_exploration_rate - min_exploration_rate) * np.exp(-exploration_decay_rate*episode)\n",
        "\n",
        "    rewards_all_episodes.append(rewards_current_episode)\n",
        "\n"
      ],
      "metadata": {
        "id": "XWvqE1wjVRDp"
      },
      "execution_count": 7,
      "outputs": []
    },
    {
      "cell_type": "code",
      "source": [
        "\n",
        "rewards_per_thousand_episodes = np.split(np.array(rewards_all_episodes),num_episodes/1000)\n",
        "count = 1000\n",
        "\n",
        "print(\"********Average reward per thousand episodes********\\n\")\n",
        "for r in rewards_per_thousand_episodes:\n",
        "    print(count, \": \", str(sum(r/1000)))\n",
        "    count += 1000\n",
        "\n",
        "print(\"\\n\\n********Q-table********\\n\")\n",
        "print(q_table)"
      ],
      "metadata": {
        "colab": {
          "base_uri": "https://localhost:8080/"
        },
        "id": "f87kXJRjVROB",
        "outputId": "7f24fe4f-cf21-43a0-f1ea-60f30205df58"
      },
      "execution_count": 8,
      "outputs": [
        {
          "output_type": "stream",
          "name": "stdout",
          "text": [
            "********Average reward per thousand episodes********\n",
            "\n",
            "1000 :  0.1550000000000001\n",
            "2000 :  0.2720000000000002\n",
            "3000 :  0.3940000000000003\n",
            "4000 :  0.6530000000000005\n",
            "5000 :  0.6350000000000005\n",
            "6000 :  0.6870000000000005\n",
            "7000 :  0.6540000000000005\n",
            "8000 :  0.6510000000000005\n",
            "9000 :  0.6570000000000005\n",
            "10000 :  0.6550000000000005\n",
            "\n",
            "\n",
            "********Q-table********\n",
            "\n",
            "[[0.54902683 0.45559576 0.40594293 0.39573125]\n",
            " [0.07825361 0.08981802 0.12034838 0.45310243]\n",
            " [0.37430826 0.07013443 0.02741573 0.1101634 ]\n",
            " [0.03324371 0.         0.         0.        ]\n",
            " [0.5718857  0.37059547 0.4366696  0.24810796]\n",
            " [0.         0.         0.         0.        ]\n",
            " [0.35349424 0.04397683 0.14686467 0.03475519]\n",
            " [0.         0.         0.         0.        ]\n",
            " [0.43989847 0.36911161 0.27870728 0.59770921]\n",
            " [0.41587931 0.65259523 0.41676768 0.31506378]\n",
            " [0.62032566 0.38104786 0.36809706 0.20724852]\n",
            " [0.         0.         0.         0.        ]\n",
            " [0.         0.         0.         0.        ]\n",
            " [0.40295625 0.42533092 0.74556109 0.52751453]\n",
            " [0.70565899 0.88334804 0.77675108 0.72200088]\n",
            " [0.         0.         0.         0.        ]]\n"
          ]
        }
      ]
    },
    {
      "cell_type": "code",
      "source": [
        "for episode in range(3):\n",
        "    state = env.reset()\n",
        "    done = False\n",
        "    print(\"*****EPISODE \", episode+1, \"*****\\n\\n\\n\\n\")\n",
        "    time.sleep(1)\n",
        "    for step in range(max_steps_per_episode):        \n",
        "        clear_output(wait=True)\n",
        "        env.render()\n",
        "        time.sleep(0.3)\n",
        "        action = np.argmax(q_table[state,:])        \n",
        "        new_state, reward, done, info = env.step(action)\n",
        "\n",
        "        if done:\n",
        "            clear_output(wait=True)\n",
        "            env.render()\n",
        "            if reward == 1:\n",
        "                print(\"****You reached the goal!****\")\n",
        "                time.sleep(3)\n",
        "            else:\n",
        "                print(\"****You fell through a hole!****\")\n",
        "                time.sleep(3)\n",
        "                clear_output(wait=True)\n",
        "            break\n",
        "        state = new_state\n",
        "env.close()"
      ],
      "metadata": {
        "colab": {
          "base_uri": "https://localhost:8080/"
        },
        "id": "ZAXwtS3mYrtG",
        "outputId": "d09cd918-9345-477b-e243-654c9142aa47"
      },
      "execution_count": 9,
      "outputs": [
        {
          "output_type": "stream",
          "name": "stdout",
          "text": [
            "  (Down)\n",
            "SFFF\n",
            "FHFH\n",
            "FFFH\n",
            "HFF\u001b[41mG\u001b[0m\n",
            "****You reached the goal!****\n"
          ]
        }
      ]
    }
  ]
}